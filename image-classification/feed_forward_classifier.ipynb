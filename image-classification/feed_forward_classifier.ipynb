{
 "cells": [
  {
   "cell_type": "code",
   "execution_count": null,
   "id": "d2473a56",
   "metadata": {},
   "outputs": [],
   "source": [
    "import tensorflow as tf\n",
    "import numpy as np\n",
    "import matplotlib.pyplot as plt"
   ]
  },
  {
   "cell_type": "code",
   "execution_count": null,
   "id": "e06cb6df",
   "metadata": {
    "scrolled": true
   },
   "outputs": [],
   "source": [
    "IMG_HEIGHT = 28\n",
    "IMG_WIDTH = 28\n",
    "\n",
    "# Fashion MNIST dataset - 28x28 greyscale images. 60,000 images for training. 10,000 for testing. 10 classes\n",
    "(train_images, train_labels), (test_images, test_labels) = tf.keras.datasets.fashion_mnist.load_data()\n",
    "\n",
    "# Normalise pixel values to be between 0 and 1\n",
    "train_images, test_images = train_images / 255, test_images / 255\n",
    "\n",
    "class_names = ['t-shirt', 'trouser', 'jumper', 'dress', 'coat',\n",
    "               'sandal', 'shirt', 'trainer', 'bag', 'boot']\n",
    "\n",
    "print(f'Train images: {train_images.shape}\\tTrain lables: {len(train_labels)}')\n",
    "print(f'Test images: {test_images.shape}\\tTest lables: {len(test_labels)}')"
   ]
  },
  {
   "cell_type": "code",
   "execution_count": null,
   "id": "a9064f39",
   "metadata": {
    "scrolled": true
   },
   "outputs": [],
   "source": [
    "# Verify the data by plotting the first few images in the dataset\n",
    "plt.figure(figsize=(10, 10))\n",
    "for i in range(25):\n",
    "    plt.subplot(5, 5, i + 1)\n",
    "    plt.xticks([]), plt.yticks([])\n",
    "    plt.imshow(train_images[i], cmap=plt.cm.binary)\n",
    "    plt.xlabel(class_names[train_labels[i]])\n",
    "plt.show()"
   ]
  },
  {
   "cell_type": "code",
   "execution_count": null,
   "id": "70059ead",
   "metadata": {},
   "outputs": [],
   "source": [
    "# Build the neural network, specifying each of the layers\n",
    "model = tf.keras.Sequential([\n",
    "    tf.keras.layers.Flatten(input_shape=(IMG_HEIGHT, IMG_WIDTH)),\n",
    "    tf.keras.layers.Dense(128, activation='relu'),\n",
    "    tf.keras.layers.Dense(10, activation='softmax')\n",
    "])\n",
    "\n",
    "model.summary()"
   ]
  },
  {
   "cell_type": "code",
   "execution_count": null,
   "id": "a7929c49",
   "metadata": {},
   "outputs": [],
   "source": [
    "# Specify the algorithm for backpropagation, the loss function and a performace metric\n",
    "model.compile(optimizer='adam', loss='sparse_categorical_crossentropy', metrics=['accuracy'])\n",
    "# Stop training early if the validation loss is constant or increasing for more than 3 epochs\n",
    "callback = tf.keras.callbacks.EarlyStopping(monitor='val_loss', patience=3, restore_best_weights=True)"
   ]
  },
  {
   "cell_type": "code",
   "execution_count": null,
   "id": "f9f6a126",
   "metadata": {},
   "outputs": [],
   "source": [
    "# Train the network\n",
    "history = model.fit(train_images, train_labels, epochs=10, validation_data=(test_images, test_labels), callbacks=callback)"
   ]
  },
  {
   "cell_type": "code",
   "execution_count": null,
   "id": "7613d840",
   "metadata": {},
   "outputs": [],
   "source": [
    "def plot_metric(history, metric='loss'):\n",
    "    plt.title(metric.capitalize())\n",
    "    plt.plot(history.history[metric])\n",
    "    plt.plot(history.history[f'val_{metric}'])\n",
    "    plt.xlabel('Epoch'), plt.ylabel(metric.capitalize())\n",
    "    plt.legend(['Training', 'Validation'])\n",
    "    plt.show()\n",
    "\n",
    "# Evaluate the network\n",
    "plot_metric(history, 'loss')\n",
    "plot_metric(history, 'accuracy')\n",
    "\n",
    "# Test the network on unseen data\n",
    "loss, acc = model.evaluate(test_images,  test_labels)"
   ]
  },
  {
   "cell_type": "code",
   "execution_count": null,
   "id": "dcead26b",
   "metadata": {},
   "outputs": [],
   "source": [
    "# Predict the label for each image in the test set\n",
    "predictions = model.predict(test_images)"
   ]
  },
  {
   "cell_type": "code",
   "execution_count": null,
   "id": "6f2a16e8",
   "metadata": {},
   "outputs": [],
   "source": [
    " def plot_image(predictions, label, img):\n",
    "    plt.xticks([]), plt.yticks([])\n",
    "    plt.imshow(img, cmap=plt.cm.binary)\n",
    "    predicted_label = np.argmax(predictions)\n",
    "    colour = 'blue' if predicted_label == label else 'red'\n",
    "    plt.xlabel(f'{class_names[predicted_label]} {100 * np.max(predictions):2.0f}% ({class_names[label]})', color=colour)\n",
    "\n",
    "def plot_value_array(predictions, label):\n",
    "    plt.xticks(range(len(class_names))), plt.yticks([])\n",
    "    plot = plt.bar(range(len(class_names)), predictions, color='gray')\n",
    "    plt.ylim([0, 1])\n",
    "    predicted_label = np.argmax(predictions)\n",
    "    plot[predicted_label].set_color('red')\n",
    "    plot[label].set_color('blue')"
   ]
  },
  {
   "cell_type": "code",
   "execution_count": null,
   "id": "cfa8f2d4",
   "metadata": {},
   "outputs": [],
   "source": [
    "# Plot the first test images, their predicted labels, and the true labels\n",
    "# Correct predictions are blue and incorrect predictions are red\n",
    "num_rows = 5\n",
    "num_cols = 3\n",
    "num_images = num_rows * num_cols\n",
    "\n",
    "plt.figure(figsize=(2 * 2 * num_cols, 2 * num_rows))\n",
    "for i in range(num_images):\n",
    "    plt.subplot(num_rows, 2 * num_cols, 2 * i + 1)\n",
    "    plot_image(predictions[i], test_labels[i], test_images[i])\n",
    "    plt.subplot(num_rows, 2 * num_cols, 2 * i + 2)\n",
    "    plot_value_array(predictions[i], test_labels[i])\n",
    "plt.show()"
   ]
  },
  {
   "cell_type": "code",
   "execution_count": null,
   "id": "36949411-e927-474b-9404-df15f8acecad",
   "metadata": {},
   "outputs": [],
   "source": [
    "def process_image(url):\n",
    "    image = plt.imread(tf.keras.utils.get_file(origin=url))\n",
    "    # Convert image to grayscale and invert colours\n",
    "    image = tf.image.rgb_to_grayscale(tf.bitwise.invert(image))\n",
    "    image = tf.image.resize(image, [IMG_HEIGHT, IMG_WIDTH]) / 255\n",
    "    image = np.expand_dims(image, 0)\n",
    "    return image\n",
    "\n",
    "image = process_image('https://upload.wikimedia.org/wikipedia/commons/2/24/Blue_Tshirt.jpg')\n",
    "prediction = model.predict(image)\n",
    "\n",
    "plt.xticks([]), plt.yticks([])\n",
    "plt.xlabel(f'{class_names[np.argmax(prediction)]} ({np.max(prediction):.2f})')\n",
    "plt.imshow(image[0,:,:,:], cmap=plt.cm.binary)"
   ]
  },
  {
   "cell_type": "code",
   "execution_count": null,
   "id": "641100ae-3338-4bc5-8931-834ecd6b42f4",
   "metadata": {},
   "outputs": [],
   "source": [
    "# Save the model\n",
    "model.save('../saved/image-classifier-mnist.h5')"
   ]
  }
 ],
 "metadata": {
  "kernelspec": {
   "display_name": "Python 3 (ipykernel)",
   "language": "python",
   "name": "python3"
  },
  "language_info": {
   "codemirror_mode": {
    "name": "ipython",
    "version": 3
   },
   "file_extension": ".py",
   "mimetype": "text/x-python",
   "name": "python",
   "nbconvert_exporter": "python",
   "pygments_lexer": "ipython3",
   "version": "3.10.12"
  }
 },
 "nbformat": 4,
 "nbformat_minor": 5
}
