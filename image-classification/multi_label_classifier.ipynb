{
 "cells": [
  {
   "cell_type": "code",
   "execution_count": null,
   "id": "baf1d1b1",
   "metadata": {},
   "outputs": [],
   "source": [
    "import tensorflow as tf\n",
    "import numpy as np\n",
    "import matplotlib.pyplot as plt"
   ]
  },
  {
   "cell_type": "code",
   "execution_count": null,
   "id": "b5a8f645",
   "metadata": {},
   "outputs": [],
   "source": [
    "IMG_HEIGHT = 32\n",
    "IMG_WIDTH = 32\n",
    "\n",
    "# CIFAR10 dataset - 32x32 colour images. 50,000 images for training. 10,000 for testing. 10 classes\n",
    "(train_images, train_labels), (test_images, test_labels) = tf.keras.datasets.cifar10.load_data()\n",
    "\n",
    "# Normalise pixel values to be between 0 and 1\n",
    "train_images, test_images = train_images / 255, test_images / 255\n",
    "\n",
    "class_names = ['airplane', 'automobile', 'bird', 'cat', 'deer',\n",
    "               'dog', 'frog', 'horse', 'ship', 'truck']\n",
    "\n",
    "print(f'Train images: {train_images.shape}\\tTrain lables: {len(train_labels)}')\n",
    "print(f'Test images: {test_images.shape}\\t\\tTest lables: {len(test_labels)}')"
   ]
  },
  {
   "cell_type": "code",
   "execution_count": null,
   "id": "1a798c58",
   "metadata": {},
   "outputs": [],
   "source": [
    "# Verify the data by plotting the first few images in the dataset\n",
    "plt.figure(figsize=(10, 10))\n",
    "for i in range(25):\n",
    "    plt.subplot(5, 5, i + 1)\n",
    "    plt.xticks([]), plt.yticks([])\n",
    "    plt.imshow(train_images[i])\n",
    "    # The CIFAR labels are singular arrays, which is why you need the extra index\n",
    "    plt.xlabel(class_names[train_labels[i][0]])\n",
    "plt.show()"
   ]
  },
  {
   "cell_type": "code",
   "execution_count": null,
   "id": "8dfc7e49",
   "metadata": {},
   "outputs": [],
   "source": [
    "# Build the convolutional neural network, specifying each of the layers\n",
    "model = tf.keras.Sequential([\n",
    "    tf.keras.layers.Conv2D(32, (3, 3), activation='relu', input_shape=(IMG_HEIGHT, IMG_WIDTH, 3)),\n",
    "    tf.keras.layers.MaxPooling2D((2, 2)),\n",
    "    tf.keras.layers.Conv2D(64, (3, 3), activation='relu'),\n",
    "    tf.keras.layers.MaxPooling2D((2, 2)),\n",
    "    tf.keras.layers.Conv2D(64, (3, 3), activation='relu'),\n",
    "    tf.keras.layers.Flatten(),\n",
    "    tf.keras.layers.Dense(64, activation='relu'),\n",
    "    tf.keras.layers.Dense(10, activation='softmax')\n",
    "])\n",
    "\n",
    "model.summary()"
   ]
  },
  {
   "cell_type": "code",
   "execution_count": null,
   "id": "2a4c7838",
   "metadata": {},
   "outputs": [],
   "source": [
    "# Specify the algorithm for backpropagation, the loss function and a performace metric\n",
    "model.compile(optimizer='adam', loss='sparse_categorical_crossentropy', metrics=['accuracy'])\n",
    "# Stop training early if the validation loss is constant or increasing for more than 3 epochs\n",
    "callback = tf.keras.callbacks.EarlyStopping(monitor='val_loss', patience=3, restore_best_weights=True)"
   ]
  },
  {
   "cell_type": "code",
   "execution_count": null,
   "id": "ca2104e0",
   "metadata": {},
   "outputs": [],
   "source": [
    "# Train the network\n",
    "history = model.fit(train_images, train_labels, epochs=10, validation_data=(test_images, test_labels), callbacks=callback)"
   ]
  },
  {
   "cell_type": "code",
   "execution_count": null,
   "id": "a3cb3c49",
   "metadata": {},
   "outputs": [],
   "source": [
    "def plot_metric(history, metric='loss'):\n",
    "    plt.title(metric.capitalize())\n",
    "    plt.plot(history.history[metric])\n",
    "    plt.plot(history.history[f'val_{metric}'])\n",
    "    plt.xlabel('Epoch'), plt.ylabel(metric.capitalize())\n",
    "    plt.legend(['Training', 'Validation'])\n",
    "    plt.show()\n",
    "\n",
    "# Evaluate the network\n",
    "plot_metric(history, 'loss')\n",
    "plot_metric(history, 'accuracy')\n",
    "\n",
    "# Test the network on unseen data\n",
    "loss, acc = model.evaluate(test_images,  test_labels)"
   ]
  },
  {
   "cell_type": "code",
   "execution_count": null,
   "id": "720d9450",
   "metadata": {},
   "outputs": [],
   "source": [
    "# Predict the label for each image in the test set\n",
    "predictions = model.predict(test_images)"
   ]
  },
  {
   "cell_type": "code",
   "execution_count": null,
   "id": "c96151e3",
   "metadata": {},
   "outputs": [],
   "source": [
    " def plot_image(predictions, label, img):\n",
    "    plt.xticks([]), plt.yticks([])\n",
    "    plt.imshow(img)\n",
    "    predicted_label = np.argmax(predictions)\n",
    "    colour = 'blue' if predicted_label == label else 'red'\n",
    "    plt.xlabel(f'{class_names[predicted_label]} {100 * np.max(predictions):2.0f}% ({class_names[label]})', color=colour)\n",
    "\n",
    "def plot_value_array(predictions, label):\n",
    "    plt.xticks(range(len(class_names))), plt.yticks([])\n",
    "    plot = plt.bar(range(len(class_names)), predictions, color='gray')\n",
    "    plt.ylim([0, 1])\n",
    "    predicted_label = np.argmax(predictions)\n",
    "    plot[predicted_label].set_color('red')\n",
    "    plot[label].set_color('blue')"
   ]
  },
  {
   "cell_type": "code",
   "execution_count": null,
   "id": "2e78b31b",
   "metadata": {},
   "outputs": [],
   "source": [
    "# Plot the first test images, their predicted labels, and the true labels\n",
    "# Correct predictions are blue and incorrect predictions are red\n",
    "num_rows = 5\n",
    "num_cols = 3\n",
    "num_images = num_rows * num_cols\n",
    "\n",
    "plt.figure(figsize=(2 * 2 * num_cols, 2*num_rows))\n",
    "for i in range(num_images):\n",
    "    plt.subplot(num_rows, 2 * num_cols, 2 * i + 1)\n",
    "    plot_image(predictions[i], test_labels[i][0], test_images[i])\n",
    "    plt.subplot(num_rows, 2 * num_cols, 2 * i + 2)\n",
    "    plot_value_array(predictions[i], test_labels[i][0])\n",
    "plt.show()"
   ]
  },
  {
   "cell_type": "code",
   "execution_count": null,
   "id": "edc80566-7b7c-4205-ab93-ac2ca38b0c84",
   "metadata": {},
   "outputs": [],
   "source": [
    "def process_image(url):\n",
    "    image = plt.imread(tf.keras.utils.get_file(origin=url))\n",
    "    image = tf.image.resize(image, [IMG_HEIGHT, IMG_WIDTH]) / 255\n",
    "    image = np.expand_dims(image, 0)\n",
    "    return image\n",
    "\n",
    "image = process_image('https://upload.wikimedia.org/wikipedia/commons/e/eb/British_Airways_Concorde_G-BOAC_03.jpg')\n",
    "predictions = model.predict(image)\n",
    "\n",
    "plt.xticks([]), plt.yticks([])\n",
    "plt.xlabel(f'{class_names[np.argmax(predictions)]} ({np.max(predictions):.2f})')\n",
    "plt.imshow(image[0,:,:,:])"
   ]
  },
  {
   "cell_type": "code",
   "execution_count": null,
   "id": "447b436e-1eaa-4912-a9ea-1b7ef163c786",
   "metadata": {},
   "outputs": [],
   "source": [
    "# Save the model\n",
    "model.save('saved/image-classifier-cifar-10.h5')"
   ]
  }
 ],
 "metadata": {
  "kernelspec": {
   "display_name": "Python 3 (ipykernel)",
   "language": "python",
   "name": "python3"
  },
  "language_info": {
   "codemirror_mode": {
    "name": "ipython",
    "version": 3
   },
   "file_extension": ".py",
   "mimetype": "text/x-python",
   "name": "python",
   "nbconvert_exporter": "python",
   "pygments_lexer": "ipython3",
   "version": "3.10.12"
  }
 },
 "nbformat": 4,
 "nbformat_minor": 5
}
