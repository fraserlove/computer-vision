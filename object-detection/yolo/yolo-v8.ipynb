{
 "cells": [
  {
   "cell_type": "code",
   "execution_count": null,
   "metadata": {},
   "outputs": [],
   "source": [
    "from ultralytics import YOLO\n",
    "from ultralytics import settings\n",
    "\n",
    "EPOCHS = 3\n",
    "BATCH_SIZE = 16\n",
    "WORKERS = 8 # Set equal to the CPU core count\n",
    "RESUME = False # Resume training from the latest checkpoint\n",
    "PATIENCE = 50 # Epochs to wait for no observable improvement to stop training early\n",
    "\n",
    "settings_params = {\n",
    "    'datasets_dir': 'datasets',\n",
    "    'weights_dir': 'weights',\n",
    "    'runs_dir': 'training'\n",
    "}\n",
    "\n",
    "settings.update(settings_params)"
   ]
  },
  {
   "cell_type": "code",
   "execution_count": null,
   "metadata": {},
   "outputs": [],
   "source": [
    "# Fine-tuning a pre-trained model\n",
    "model = YOLO('models/yolov8n.pt')"
   ]
  },
  {
   "cell_type": "code",
   "execution_count": null,
   "metadata": {},
   "outputs": [],
   "source": [
    "# tensorboard --logdir runs/detect/train\n",
    "model.train(data='coco128.yaml', epochs=EPOCHS, patience=PATIENCE, batch=BATCH_SIZE, workers=8, resume=RESUME)"
   ]
  },
  {
   "cell_type": "code",
   "execution_count": null,
   "metadata": {},
   "outputs": [],
   "source": [
    "# Testing the model on the test set\n",
    "metrics = model.val()"
   ]
  },
  {
   "cell_type": "code",
   "execution_count": null,
   "metadata": {},
   "outputs": [],
   "source": [
    "results = model.predict('https://ultralytics.com/images/bus.jpg', conf=0.5, show=True)"
   ]
  },
  {
   "cell_type": "code",
   "execution_count": null,
   "metadata": {},
   "outputs": [],
   "source": [
    "# Export the model to ONNX format (can also export to TF Saved Model, TF Lite, TensorRT, PyTorch, etc.)\n",
    "model.export(format='onnx')"
   ]
  }
 ],
 "metadata": {
  "kernelspec": {
   "display_name": ".venv",
   "language": "python",
   "name": "python3"
  },
  "language_info": {
   "codemirror_mode": {
    "name": "ipython",
    "version": 3
   },
   "file_extension": ".py",
   "mimetype": "text/x-python",
   "name": "python",
   "nbconvert_exporter": "python",
   "pygments_lexer": "ipython3",
   "version": "3.10.12"
  },
  "orig_nbformat": 4
 },
 "nbformat": 4,
 "nbformat_minor": 2
}
