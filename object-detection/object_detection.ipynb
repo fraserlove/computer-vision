{
 "cells": [
  {
   "cell_type": "code",
   "execution_count": null,
   "id": "37ef0ab2-ddb2-46dc-a255-82e1552adc5f",
   "metadata": {},
   "outputs": [],
   "source": [
    "# Download and install TensorFlow Object Detection API\n",
    "!brew install protobuf\n",
    "!git clone --depth 1 https://github.com/tensorflow/models\n",
    "%cd models/research/\n",
    "!protoc object_detection/protos/*.proto --python_out=.\n",
    "!cp object_detection/packages/tf2/setup.py .\n",
    "!python -m pip install .\n",
    "%cd ../../"
   ]
  },
  {
   "cell_type": "code",
   "execution_count": null,
   "id": "9b64427f-6c60-4e78-beae-36c5b78dbab6",
   "metadata": {},
   "outputs": [],
   "source": [
    "import tensorflow as tf\n",
    "import tensorflow_hub as hub\n",
    "import numpy as np\n",
    "import matplotlib.pyplot as plt\n",
    "from PIL import Image\n",
    "\n",
    "# Import the TensorFlow Object Detection API visualisation tools\n",
    "from object_detection.utils import label_map_util\n",
    "from object_detection.utils import visualization_utils as viz_utils\n",
    "\n",
    "# Display plots in Jupyter\n",
    "%matplotlib inline"
   ]
  },
  {
   "cell_type": "code",
   "execution_count": null,
   "id": "43551d8f-623a-4c65-8793-0740f22aea0b",
   "metadata": {},
   "outputs": [],
   "source": [
    "def load_image(path):\n",
    "    print(f'Loading image - {path}')\n",
    "    if path.startswith('http'):\n",
    "        return np.array(Image.open(tf.keras.utils.get_file(origin=path)))\n",
    "    return np.array(Image.open(path)) \n",
    "\n",
    "def load_label_map(path):\n",
    "    print(f'Loading label map - {path}')\n",
    "    return label_map_util.create_category_index_from_labelmap(path)\n",
    "\n",
    "def load_model(path):\n",
    "    print(f'Loading model - {path}')\n",
    "    return hub.load(path)\n",
    "\n",
    "def run_model(model, image):\n",
    "    # Add an axis as model expects a tensor representing a batch of images\n",
    "    image_tensor = tf.expand_dims(tf.convert_to_tensor(image), 0)\n",
    "    # TensorFlow Object Detection API expects detections to be numpy arrays\n",
    "    return {key:value.numpy() for key,value in model(image_tensor).items()}\n",
    "\n",
    "def show_detections(image, results, label_map):\n",
    "    viz_utils.visualize_boxes_and_labels_on_image_array(\n",
    "          image,\n",
    "          results['detection_boxes'][0],\n",
    "          (results['detection_classes'][0]).astype(int),\n",
    "          results['detection_scores'][0],\n",
    "          label_map,\n",
    "          use_normalized_coordinates=True,\n",
    "          min_score_thresh=0.3,\n",
    "          line_thickness=4)\n",
    "    \n",
    "    plt.figure(figsize=(24,32))\n",
    "    plt.imshow(image)\n",
    "    plt.imsave('annotated.jpg', image)"
   ]
  },
  {
   "cell_type": "code",
   "execution_count": null,
   "id": "af25b737-4643-409e-91b7-6fcc8209a7da",
   "metadata": {},
   "outputs": [],
   "source": [
    "# Test image included in TensorFlow Object Detection API.\n",
    "IMAGE_PATH = 'models/research/object_detection/test_images/image2.jpg'\n",
    "LABEL_MAP_PATH = 'models/research/object_detection/data/mscoco_label_map.pbtxt'\n",
    "\n",
    "# EfficientDet D7 1536x1536.\n",
    "MODEL_PATH = 'https://tfhub.dev/tensorflow/efficientdet/d7/1'\n",
    "\n",
    "image = load_image(IMAGE_PATH)\n",
    "labels = load_label_map(LABEL_MAP_PATH)\n",
    "model = load_model(MODEL_PATH)\n",
    "\n",
    "results = run_model(model, image)\n",
    "show_detections(image.copy(), results, labels)"
   ]
  }
 ],
 "metadata": {
  "kernelspec": {
   "display_name": "Python 3 (ipykernel)",
   "language": "python",
   "name": "python3"
  },
  "language_info": {
   "codemirror_mode": {
    "name": "ipython",
    "version": 3
   },
   "file_extension": ".py",
   "mimetype": "text/x-python",
   "name": "python",
   "nbconvert_exporter": "python",
   "pygments_lexer": "ipython3",
   "version": "3.10.12"
  }
 },
 "nbformat": 4,
 "nbformat_minor": 5
}
