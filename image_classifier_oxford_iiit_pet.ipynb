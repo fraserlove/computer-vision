{
 "cells": [
  {
   "cell_type": "code",
   "execution_count": null,
   "id": "9c2ce6e0-6280-498d-bf14-b7d066a78fed",
   "metadata": {},
   "outputs": [],
   "source": [
    "# Download the datatset from Kaggle.\n",
    "!kaggle datasets download -p datasets/oxford-iiit-pet -d tanlikesmath/the-oxfordiiit-pet-dataset --unzip"
   ]
  },
  {
   "cell_type": "code",
   "execution_count": null,
   "id": "9df1f325-7a23-4f5d-8295-6845ad4c3117",
   "metadata": {},
   "outputs": [],
   "source": [
    "import tensorflow as tf\n",
    "import glob\n",
    "import numpy as np\n",
    "import pandas as pd\n",
    "import matplotlib.pyplot as plt"
   ]
  },
  {
   "cell_type": "code",
   "execution_count": null,
   "id": "ee1d6869-f94f-4721-a8d3-364ab13b18cf",
   "metadata": {},
   "outputs": [],
   "source": [
    "cats = ['Abyssinian', 'Bengal', 'Birman', 'Bombay', 'British_Shorthair', 'Egyptian_Mau', \n",
    "        'Maine_Coon', 'Persian', 'Ragdoll', 'Russian_Blue', 'Siamese', 'Sphynx']\n",
    "\n",
    "class_names = ['cat', 'dog']\n",
    "\n",
    "data = []\n",
    "for img in glob.glob('datasets/oxford-iiit-pet/images/*.jpg'):\n",
    "    label = 'cat' if any(cat in img for cat in cats) else 'dog'\n",
    "    data.append((img, label))\n",
    "\n",
    "print(f'There are {len(data)} images')"
   ]
  },
  {
   "cell_type": "code",
   "execution_count": null,
   "id": "d92e0407-9e3c-48aa-bc3a-86ac33f146d4",
   "metadata": {},
   "outputs": [],
   "source": [
    "# Shuffle the data before partitioning\n",
    "np.random.shuffle(data)\n",
    "\n",
    "# Split the data into train, validation and test sets\n",
    "train, val, test = np.split(data, [int(len(data) * 0.7), int(len(data) * 0.8)])\n",
    "\n",
    "train_df = pd.DataFrame({'image':train[:,0], 'label':train[:,1]})\n",
    "val_df = pd.DataFrame({'image':val[:,0], 'label':val[:,1]})\n",
    "test_df = pd.DataFrame({'image':test[:,0], 'label':test[:,1]})\n",
    "\n",
    "print(f'There are {len(train_df)} images for training')\n",
    "print(f'There are {len(val_df)} images for validation')\n",
    "print(f'There are {len(test_df)} images for testing')"
   ]
  },
  {
   "cell_type": "code",
   "execution_count": null,
   "id": "84c1b0b9-5e49-4e98-8d61-6d5d5e7a2e8c",
   "metadata": {},
   "outputs": [],
   "source": [
    "# Give the CNN 32 images at a time. The lower the batch size, the better the model will learn,\n",
    "# however, the training process will be longer.\n",
    "BATCH_SIZE = 32\n",
    "IMG_HEIGHT = 224\n",
    "IMG_WIDTH = 224\n",
    "\n",
    "# Create the ImageDataGenerator object and rescale the images\n",
    "image_generator = tf.keras.preprocessing.image.ImageDataGenerator(rescale=1/255)\n",
    "\n",
    "# Convert them into a dataset to be split into batches, shuffled and resized\n",
    "train_dataset = image_generator.flow_from_dataframe(\n",
    "    dataframe=train_df,\n",
    "    class_mode='binary',\n",
    "    x_col='image',\n",
    "    y_col='label',\n",
    "    batch_size=BATCH_SIZE,\n",
    "    seed=42,\n",
    "    shuffle=True,\n",
    "    target_size=(IMG_HEIGHT,IMG_WIDTH)\n",
    ")\n",
    "\n",
    "val_dataset = image_generator.flow_from_dataframe(\n",
    "    dataframe=val_df,\n",
    "    class_mode='binary',\n",
    "    x_col='image',\n",
    "    y_col='label',\n",
    "    batch_size=BATCH_SIZE,\n",
    "    seed=42,\n",
    "    shuffle=True,\n",
    "    target_size=(IMG_HEIGHT,IMG_WIDTH)\n",
    ")\n",
    "\n",
    "test_dataset = image_generator.flow_from_dataframe(\n",
    "    dataframe=test_df,\n",
    "    class_mode='binary',\n",
    "    x_col='image',\n",
    "    y_col='label',\n",
    "    batch_size=BATCH_SIZE,\n",
    "    seed=42,\n",
    "    shuffle=True,\n",
    "    target_size=(IMG_HEIGHT,IMG_WIDTH)\n",
    ")\n",
    "\n",
    "train_images, train_labels = next(iter(train_dataset))\n",
    "\n",
    "print(f'Batch shape: {train_images.shape}')\n",
    "print(f'Label shape: {train_labels.shape}')"
   ]
  },
  {
   "cell_type": "code",
   "execution_count": null,
   "id": "e46c9776-d0f0-4f02-ae06-00b7a3762bd6",
   "metadata": {},
   "outputs": [],
   "source": [
    "# Verify the data by plotting the first few images in the dataset\n",
    "plt.figure(figsize=(10, 10))\n",
    "for i in range(25):\n",
    "    plt.subplot(5, 5, i + 1)\n",
    "    plt.xticks([]), plt.yticks([])\n",
    "    plt.imshow(train_images[i])\n",
    "    plt.xlabel(class_names[int(train_labels[i])])\n",
    "plt.show()"
   ]
  },
  {
   "cell_type": "code",
   "execution_count": null,
   "id": "d0c702b9-8007-4e01-9d43-1bb500ab7545",
   "metadata": {},
   "outputs": [],
   "source": [
    "# Build the convolutional neural network, specifying each of the layers\n",
    "model = tf.keras.Sequential([\n",
    "    tf.keras.layers.Conv2D(64, (3, 3), activation='relu', input_shape = [IMG_HEIGHT, IMG_WIDTH, 3]),\n",
    "    tf.keras.layers.MaxPooling2D((2, 2)),\n",
    "    tf.keras.layers.Conv2D(128, (3, 3), activation='relu'),\n",
    "    tf.keras.layers.MaxPooling2D((2, 2)),\n",
    "    tf.keras.layers.Conv2D(256, (3, 3), activation='relu'),\n",
    "    tf.keras.layers.MaxPooling2D((2, 2)),\n",
    "    tf.keras.layers.Conv2D(512, (3, 3), activation='relu'),\n",
    "    tf.keras.layers.GlobalAveragePooling2D(),\n",
    "    tf.keras.layers.Dense(1, activation='sigmoid')\n",
    "])\n",
    "\n",
    "model.summary()"
   ]
  },
  {
   "cell_type": "code",
   "execution_count": null,
   "id": "c4f1e7b8-55cd-415c-ad96-5840b734eb1f",
   "metadata": {},
   "outputs": [],
   "source": [
    "# Specify the algorithm for backpropagation, the loss function and a performace metric\n",
    "model.compile(optimizer='adam', loss = 'binary_crossentropy', metrics=['accuracy'])\n",
    "# Stop training early if the validation loss is constant or increasing for more than 3 epochs\n",
    "callback = tf.keras.callbacks.EarlyStopping(monitor='val_loss', patience=3, restore_best_weights=True)"
   ]
  },
  {
   "cell_type": "code",
   "execution_count": null,
   "id": "ac42f2d5-c8d6-45ce-a2e5-cea44e8c7a9a",
   "metadata": {},
   "outputs": [],
   "source": [
    "# Train the network\n",
    "history = model.fit(train_dataset, epochs=15, validation_data=val_dataset, callbacks=callback)"
   ]
  },
  {
   "cell_type": "code",
   "execution_count": null,
   "id": "69298b54-f31a-4a8a-804d-f711d8815219",
   "metadata": {},
   "outputs": [],
   "source": [
    "def plot_metric(history, metric='loss'):\n",
    "    plt.title(metric.capitalize())\n",
    "    plt.plot(history.history[metric])\n",
    "    plt.plot(history.history[f'val_{metric}'])\n",
    "    plt.xlabel('Epoch'), plt.ylabel(metric.capitalize())\n",
    "    plt.legend(['Training', 'Validation'])\n",
    "    plt.show()\n",
    "\n",
    "# Evaluate the network\n",
    "plot_metric(history, 'loss')\n",
    "plot_metric(history, 'accuracy')\n",
    "\n",
    "# Test the network on unseen data\n",
    "loss, acc = model.evaluate(test_dataset)"
   ]
  },
  {
   "cell_type": "code",
   "execution_count": null,
   "id": "54b176a7-155a-4f35-8db6-3f5f07ba6602",
   "metadata": {},
   "outputs": [],
   "source": [
    "def process_image(url):\n",
    "    image = plt.imread(tf.keras.utils.get_file(origin=url))\n",
    "    image = tf.image.resize(image, [IMG_HEIGHT, IMG_WIDTH]) / 255\n",
    "    image = np.expand_dims(image, 0)\n",
    "    return image\n",
    "\n",
    "image = process_image('https://upload.wikimedia.org/wikipedia/commons/d/d5/Retriever_in_water.jpg')\n",
    "predictions = model.predict(image)\n",
    "\n",
    "plt.xticks([]), plt.yticks([])\n",
    "plt.xlabel(f'{class_names[round(predictions[0, 0])]} ({np.max(predictions):.2f})')\n",
    "plt.imshow(image[0,:,:,:])"
   ]
  },
  {
   "cell_type": "code",
   "execution_count": null,
   "id": "229d02ae-8134-4584-8cfc-86f17a198e58",
   "metadata": {},
   "outputs": [],
   "source": [
    "# Save the model\n",
    "model.save('saved/image-classifier-oxford-iiit-pet.h5')"
   ]
  }
 ],
 "metadata": {
  "kernelspec": {
   "display_name": "Python 3 (ipykernel)",
   "language": "python",
   "name": "python3"
  },
  "language_info": {
   "codemirror_mode": {
    "name": "ipython",
    "version": 3
   },
   "file_extension": ".py",
   "mimetype": "text/x-python",
   "name": "python",
   "nbconvert_exporter": "python",
   "pygments_lexer": "ipython3",
   "version": "3.11.4"
  }
 },
 "nbformat": 4,
 "nbformat_minor": 5
}
