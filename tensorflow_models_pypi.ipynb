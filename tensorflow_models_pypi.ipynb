{
 "cells": [
  {
   "cell_type": "markdown",
   "metadata": {
    "id": "bK-7g5sizhg5"
   },
   "source": [
    "## Install Tensorflow-Models packages\n",
    "\n",
    "The notebook is tested with Google Colab sandbox.\n",
    "\n"
   ]
  },
  {
   "cell_type": "code",
   "execution_count": 1,
   "metadata": {
    "colab": {
     "base_uri": "https://localhost:8080/"
    },
    "executionInfo": {
     "elapsed": 9737,
     "status": "ok",
     "timestamp": 1650513863935,
     "user": {
      "displayName": "Hongkun Yu",
      "userId": "12855578661733349593"
     },
     "user_tz": 420
    },
    "id": "eTz93_P2dMty",
    "outputId": "d147b4b0-954f-4064-d179-bb82bc3ea4fe"
   },
   "outputs": [
    {
     "name": "stdout",
     "output_type": "stream",
     "text": [
      "Python 3.10.12\n",
      "\n",
      "\u001b[1m[\u001b[0m\u001b[34;49mnotice\u001b[0m\u001b[1;39;49m]\u001b[0m\u001b[39;49m A new release of pip is available: \u001b[0m\u001b[31;49m23.0.1\u001b[0m\u001b[39;49m -> \u001b[0m\u001b[32;49m23.2.1\u001b[0m\n",
      "\u001b[1m[\u001b[0m\u001b[34;49mnotice\u001b[0m\u001b[1;39;49m]\u001b[0m\u001b[39;49m To update, run: \u001b[0m\u001b[32;49mpip install --upgrade pip\u001b[0m\n"
     ]
    }
   ],
   "source": [
    "!python --version\n",
    "!pip3 install -q tf-models-official"
   ]
  },
  {
   "cell_type": "code",
   "execution_count": 2,
   "metadata": {
    "colab": {
     "base_uri": "https://localhost:8080/"
    },
    "executionInfo": {
     "elapsed": 2,
     "status": "ok",
     "timestamp": 1650513867685,
     "user": {
      "displayName": "Hongkun Yu",
      "userId": "12855578661733349593"
     },
     "user_tz": 420
    },
    "id": "GHvGWdCcdQqG",
    "outputId": "863683b2-6b70-4de9-98bc-5df743619ad5"
   },
   "outputs": [
    {
     "name": "stderr",
     "output_type": "stream",
     "text": [
      "2023-07-27 19:58:47.364650: I tensorflow/core/platform/cpu_feature_guard.cc:182] This TensorFlow binary is optimized to use available CPU instructions in performance-critical operations.\n",
      "To enable the following instructions: AVX2 FMA, in other operations, rebuild TensorFlow with the appropriate compiler flags.\n"
     ]
    },
    {
     "name": "stdout",
     "output_type": "stream",
     "text": [
      "1.24.3\n",
      "2.13.0\n"
     ]
    },
    {
     "ename": "ModuleNotFoundError",
     "evalue": "No module named 'tensorflow_models'",
     "output_type": "error",
     "traceback": [
      "\u001b[0;31m---------------------------------------------------------------------------\u001b[0m",
      "\u001b[0;31mModuleNotFoundError\u001b[0m                       Traceback (most recent call last)",
      "Cell \u001b[0;32mIn[2], line 6\u001b[0m\n\u001b[1;32m      3\u001b[0m \u001b[38;5;28mprint\u001b[39m(np\u001b[38;5;241m.\u001b[39m__version__)\n\u001b[1;32m      4\u001b[0m \u001b[38;5;28mprint\u001b[39m(tf\u001b[38;5;241m.\u001b[39m__version__)\n\u001b[0;32m----> 6\u001b[0m \u001b[38;5;28;01mimport\u001b[39;00m \u001b[38;5;21;01mtensorflow_models\u001b[39;00m \u001b[38;5;28;01mas\u001b[39;00m \u001b[38;5;21;01mtfm\u001b[39;00m\n",
      "\u001b[0;31mModuleNotFoundError\u001b[0m: No module named 'tensorflow_models'"
     ]
    }
   ],
   "source": [
    "import numpy as np\n",
    "import tensorflow as tf\n",
    "print(np.__version__)\n",
    "print(tf.__version__)\n",
    "\n",
    "import tensorflow_models as tfm"
   ]
  },
  {
   "cell_type": "markdown",
   "metadata": {
    "id": "eYSeQJniztc8"
   },
   "source": [
    "## Check out modules\n",
    "\n",
    "**Note: As the TensorFlow Models (NLP + Vision) 2.9 release which is tested for this notebook, we partially exported selected modules but the APIs are not stable. Also be aware that, the\n",
    "modeling libraries are advancing very fast, so we generally don't guarantee compatability between versions.** "
   ]
  },
  {
   "cell_type": "code",
   "execution_count": null,
   "metadata": {
    "colab": {
     "base_uri": "https://localhost:8080/"
    },
    "executionInfo": {
     "elapsed": 206,
     "status": "ok",
     "timestamp": 1650513874596,
     "user": {
      "displayName": "Hongkun Yu",
      "userId": "12855578661733349593"
     },
     "user_tz": 420
    },
    "id": "Y1iEMMGTMrQu",
    "outputId": "f3da68d7-ecda-471c-c27b-915b80b55131"
   },
   "outputs": [],
   "source": [
    "print(\"Top-level modules: \", dir(tfm))\n",
    "print(\"NLP modules: \", dir(tfm.nlp))\n",
    "print(\"Vision modules: \", dir(tfm.vision))"
   ]
  },
  {
   "cell_type": "markdown",
   "metadata": {
    "id": "UMHeJmk_1yUf"
   },
   "source": [
    "## Quick Examples\n",
    "\n",
    "### 1. Use a tfm.nlp Keras layer"
   ]
  },
  {
   "cell_type": "code",
   "execution_count": null,
   "metadata": {
    "colab": {
     "base_uri": "https://localhost:8080/"
    },
    "executionInfo": {
     "elapsed": 400,
     "status": "ok",
     "timestamp": 1650514040957,
     "user": {
      "displayName": "Hongkun Yu",
      "userId": "12855578661733349593"
     },
     "user_tz": 420
    },
    "id": "XVWEUozQ1xQY",
    "outputId": "5de2aa91-8c38-438e-80b6-481617917c08"
   },
   "outputs": [],
   "source": [
    "encoder_block = tfm.nlp.layers.TransformerEncoderBlock(\n",
    "        num_attention_heads=2, inner_dim=10, inner_activation='relu')\n",
    "\n",
    "batch, length, hidden_size = 2, 3, 4\n",
    "qkv_inputs = tf.ones((batch, length, hidden_size), tf.float32)\n",
    "attention_mask = None\n",
    "outputs = encoder_block([qkv_inputs, attention_mask])\n",
    "print(encoder_block.name)\n",
    "print(outputs)"
   ]
  },
  {
   "cell_type": "markdown",
   "metadata": {
    "id": "AOOrWjKkSYM0"
   },
   "source": [
    "### 2. Use a tfm.vision Backbone models"
   ]
  },
  {
   "cell_type": "code",
   "execution_count": null,
   "metadata": {
    "colab": {
     "base_uri": "https://localhost:8080/"
    },
    "executionInfo": {
     "elapsed": 5979,
     "status": "ok",
     "timestamp": 1650514078414,
     "user": {
      "displayName": "Hongkun Yu",
      "userId": "12855578661733349593"
     },
     "user_tz": 420
    },
    "id": "xwD0UhUdSzNU",
    "outputId": "770d46c0-8c71-4f59-ee0b-67430c791380"
   },
   "outputs": [],
   "source": [
    "input_size = 128\n",
    "filter_size_scale, block_repeats, resample_alpha, endpoints_num_filters, min_level, max_level = 0.65, 1, 0.5, 128, 4, 6\n",
    "input_specs = tf.keras.layers.InputSpec(\n",
    "    shape=[None, input_size, input_size, 3])\n",
    "model = tfm.vision.backbones.SpineNet(\n",
    "    input_specs=input_specs,\n",
    "    min_level=min_level,\n",
    "    max_level=max_level,\n",
    "    endpoints_num_filters=endpoints_num_filters,\n",
    "    resample_alpha=resample_alpha,\n",
    "    block_repeats=block_repeats,\n",
    "    filter_size_scale=filter_size_scale,\n",
    "    init_stochastic_depth_rate=0.2,\n",
    ")\n",
    "\n",
    "inputs = tf.keras.Input(shape=(input_size, input_size, 3), batch_size=1)\n",
    "endpoints = model(inputs)\n",
    "print(model.name)\n",
    "print(endpoints)"
   ]
  },
  {
   "cell_type": "markdown",
   "metadata": {
    "id": "HHJs4lRlTk8q"
   },
   "source": [
    "### 3. Use Orbit package for advanced training loops"
   ]
  },
  {
   "cell_type": "code",
   "execution_count": null,
   "metadata": {
    "colab": {
     "base_uri": "https://localhost:8080/"
    },
    "executionInfo": {
     "elapsed": 215,
     "status": "ok",
     "timestamp": 1650514185283,
     "user": {
      "displayName": "Hongkun Yu",
      "userId": "12855578661733349593"
     },
     "user_tz": 420
    },
    "id": "X4ek9IrJTkP_",
    "outputId": "7b31de68-53a0-4b8a-d9ab-109e7c43c933"
   },
   "outputs": [],
   "source": [
    "import orbit\n",
    "print(\"Orbit modules: \", dir(orbit))"
   ]
  }
 ],
 "metadata": {
  "colab": {
   "collapsed_sections": [],
   "name": "tensorflow_models_pypi",
   "provenance": [
    {
     "file_id": "1dm1dUZ2Bo6S6Zom7GTQrIG78Xz7iFeZY",
     "timestamp": 1650514452505
    }
   ]
  },
  "kernelspec": {
   "display_name": "Python 3 (ipykernel)",
   "language": "python",
   "name": "python3"
  },
  "language_info": {
   "codemirror_mode": {
    "name": "ipython",
    "version": 3
   },
   "file_extension": ".py",
   "mimetype": "text/x-python",
   "name": "python",
   "nbconvert_exporter": "python",
   "pygments_lexer": "ipython3",
   "version": "3.11.4"
  }
 },
 "nbformat": 4,
 "nbformat_minor": 4
}
